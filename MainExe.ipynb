{
  "nbformat": 4,
  "nbformat_minor": 0,
  "metadata": {
    "colab": {
      "name": "assignment3-softcomputing",
      "provenance": [],
      "toc_visible": true
    },
    "kernelspec": {
      "name": "python3",
      "display_name": "Python 3"
    }
  },
  "cells": [
    {
      "cell_type": "markdown",
      "metadata": {
        "id": "FZhsb9oW_YVc"
      },
      "source": [
        "#problem 1"
      ]
    },
    {
      "cell_type": "markdown",
      "metadata": {
        "id": "jmiTS-QHbla9"
      },
      "source": [
        "##get data"
      ]
    },
    {
      "cell_type": "code",
      "metadata": {
        "colab": {
          "base_uri": "https://localhost:8080/",
          "height": 399
        },
        "id": "g6ccmMQI_RLi",
        "outputId": "24960c7f-f1b8-4aaa-c646-80de6a3e6d79"
      },
      "source": [
        "import numpy as np\r\n",
        "import pandas as pd \r\n",
        "import math\r\n",
        "import statistics \r\n",
        "import random \r\n",
        "\r\n",
        "url = 'https://raw.githubusercontent.com/RanjithKalingeri/housing-price-/main/Housing%20Price%20data%20set.csv'\r\n",
        "df = pd.read_csv(url)\r\n",
        "\r\n",
        "y_c = df[['price']]\r\n",
        "x_c = df[['lotsize', 'bedrooms', 'bathrms']]\r\n",
        "\r\n",
        "x = x_c.head(382)\r\n",
        "x.insert (0, 'x', 1)\r\n",
        "y = y_c.head(382)\r\n",
        "x_c.insert (0, 'x_c', 1)\r\n",
        "x_c"
      ],
      "execution_count": 107,
      "outputs": [
        {
          "output_type": "execute_result",
          "data": {
            "text/html": [
              "<div>\n",
              "<style scoped>\n",
              "    .dataframe tbody tr th:only-of-type {\n",
              "        vertical-align: middle;\n",
              "    }\n",
              "\n",
              "    .dataframe tbody tr th {\n",
              "        vertical-align: top;\n",
              "    }\n",
              "\n",
              "    .dataframe thead th {\n",
              "        text-align: right;\n",
              "    }\n",
              "</style>\n",
              "<table border=\"1\" class=\"dataframe\">\n",
              "  <thead>\n",
              "    <tr style=\"text-align: right;\">\n",
              "      <th></th>\n",
              "      <th>x_c</th>\n",
              "      <th>lotsize</th>\n",
              "      <th>bedrooms</th>\n",
              "      <th>bathrms</th>\n",
              "    </tr>\n",
              "  </thead>\n",
              "  <tbody>\n",
              "    <tr>\n",
              "      <th>0</th>\n",
              "      <td>1</td>\n",
              "      <td>5850</td>\n",
              "      <td>3</td>\n",
              "      <td>1</td>\n",
              "    </tr>\n",
              "    <tr>\n",
              "      <th>1</th>\n",
              "      <td>1</td>\n",
              "      <td>4000</td>\n",
              "      <td>2</td>\n",
              "      <td>1</td>\n",
              "    </tr>\n",
              "    <tr>\n",
              "      <th>2</th>\n",
              "      <td>1</td>\n",
              "      <td>3060</td>\n",
              "      <td>3</td>\n",
              "      <td>1</td>\n",
              "    </tr>\n",
              "    <tr>\n",
              "      <th>3</th>\n",
              "      <td>1</td>\n",
              "      <td>6650</td>\n",
              "      <td>3</td>\n",
              "      <td>1</td>\n",
              "    </tr>\n",
              "    <tr>\n",
              "      <th>4</th>\n",
              "      <td>1</td>\n",
              "      <td>6360</td>\n",
              "      <td>2</td>\n",
              "      <td>1</td>\n",
              "    </tr>\n",
              "    <tr>\n",
              "      <th>...</th>\n",
              "      <td>...</td>\n",
              "      <td>...</td>\n",
              "      <td>...</td>\n",
              "      <td>...</td>\n",
              "    </tr>\n",
              "    <tr>\n",
              "      <th>541</th>\n",
              "      <td>1</td>\n",
              "      <td>4800</td>\n",
              "      <td>3</td>\n",
              "      <td>2</td>\n",
              "    </tr>\n",
              "    <tr>\n",
              "      <th>542</th>\n",
              "      <td>1</td>\n",
              "      <td>6000</td>\n",
              "      <td>3</td>\n",
              "      <td>2</td>\n",
              "    </tr>\n",
              "    <tr>\n",
              "      <th>543</th>\n",
              "      <td>1</td>\n",
              "      <td>6000</td>\n",
              "      <td>3</td>\n",
              "      <td>2</td>\n",
              "    </tr>\n",
              "    <tr>\n",
              "      <th>544</th>\n",
              "      <td>1</td>\n",
              "      <td>6000</td>\n",
              "      <td>3</td>\n",
              "      <td>2</td>\n",
              "    </tr>\n",
              "    <tr>\n",
              "      <th>545</th>\n",
              "      <td>1</td>\n",
              "      <td>6000</td>\n",
              "      <td>3</td>\n",
              "      <td>1</td>\n",
              "    </tr>\n",
              "  </tbody>\n",
              "</table>\n",
              "<p>546 rows × 4 columns</p>\n",
              "</div>"
            ],
            "text/plain": [
              "     x_c  lotsize  bedrooms  bathrms\n",
              "0      1     5850         3        1\n",
              "1      1     4000         2        1\n",
              "2      1     3060         3        1\n",
              "3      1     6650         3        1\n",
              "4      1     6360         2        1\n",
              "..   ...      ...       ...      ...\n",
              "541    1     4800         3        2\n",
              "542    1     6000         3        2\n",
              "543    1     6000         3        2\n",
              "544    1     6000         3        2\n",
              "545    1     6000         3        1\n",
              "\n",
              "[546 rows x 4 columns]"
            ]
          },
          "metadata": {
            "tags": []
          },
          "execution_count": 107
        }
      ]
    },
    {
      "cell_type": "markdown",
      "metadata": {
        "id": "IOLSr7V8Pqb1"
      },
      "source": [
        "##get coef with out regulization"
      ]
    },
    {
      "cell_type": "code",
      "metadata": {
        "colab": {
          "base_uri": "https://localhost:8080/"
        },
        "id": "V2qUcbKKPq7M",
        "outputId": "82b960f7-be95-45cf-d544-fa0842c1f1a9"
      },
      "source": [
        "import numpy as np\r\n",
        "\r\n",
        "\r\n",
        "def get_coef(x,y):\r\n",
        "    z = np.dot(x.transpose(), x)\r\n",
        "    z = np.linalg.inv(z)\r\n",
        "    a = np.dot(x.transpose(), y)\r\n",
        "    w =np.dot(z, a)\r\n",
        "    return w\r\n",
        "\r\n",
        "get_coef(x,y)"
      ],
      "execution_count": 108,
      "outputs": [
        {
          "output_type": "execute_result",
          "data": {
            "text/plain": [
              "array([[-4.89492370e+03],\n",
              "       [ 5.93101241e+00],\n",
              "       [ 5.52857201e+03],\n",
              "       [ 1.90100176e+04]])"
            ]
          },
          "metadata": {
            "tags": []
          },
          "execution_count": 108
        }
      ]
    },
    {
      "cell_type": "markdown",
      "metadata": {
        "id": "B3mkj4QkHNFm"
      },
      "source": [
        "##predict estimated price of house "
      ]
    },
    {
      "cell_type": "code",
      "metadata": {
        "id": "XjjRd-mMHNk1"
      },
      "source": [
        "def predict (w, x, i):\r\n",
        "    return w[0][0] + w[1][0] * x.iloc[i,1] + w[2][0]*x.iloc[i,2] + w[3][0]*x.iloc[i,3]\r\n",
        "\r\n",
        "#predict(w, x, 3)\r\n"
      ],
      "execution_count": 109,
      "outputs": []
    },
    {
      "cell_type": "markdown",
      "metadata": {
        "id": "LWJ31E9CQSgV"
      },
      "source": [
        "##get coef for l2 regulization "
      ]
    },
    {
      "cell_type": "code",
      "metadata": {
        "id": "mgpM9T8MQS4e",
        "colab": {
          "base_uri": "https://localhost:8080/"
        },
        "outputId": "e1c2e40a-a4f5-4fd2-b1b9-128a1af92f99"
      },
      "source": [
        "\r\n",
        "def get_coef_l2 (x, y, l):\r\n",
        "    z = np.dot(x.transpose(), x)\r\n",
        "    i = np.identity(4)\r\n",
        "    i[0][0] =0\r\n",
        "    i = np.dot(i, l)\r\n",
        "    z = np.add(z,i)\r\n",
        "    z = np.linalg.inv(z)\r\n",
        "    a = np.dot(x.transpose(), y)\r\n",
        "    w =np.dot(z, a)\r\n",
        "    return w\r\n",
        "\r\n",
        "w= get_coef_l2(x,y, 0)\r\n",
        "\r\n",
        "p = predict (w, x, 0)\r\n",
        "p"
      ],
      "execution_count": 110,
      "outputs": [
        {
          "output_type": "execute_result",
          "data": {
            "text/plain": [
              "65397.23247626203"
            ]
          },
          "metadata": {
            "tags": []
          },
          "execution_count": 110
        }
      ]
    },
    {
      "cell_type": "markdown",
      "metadata": {
        "id": "FL-4rjlFcAjU"
      },
      "source": [
        "##error function "
      ]
    },
    {
      "cell_type": "code",
      "metadata": {
        "colab": {
          "base_uri": "https://localhost:8080/"
        },
        "id": "sIn1wNgyRfVs",
        "outputId": "625a57df-1ce1-46b2-df9b-c242326efcba"
      },
      "source": [
        "def cost_function(x, y, l ): \r\n",
        "    w = get_coef_l2(x, y, l)\r\n",
        "    cost = 0\r\n",
        "    for i in range(382,545):\r\n",
        "        y_hat = predict(w, x_c, i)\r\n",
        "        cost += (abs(y_hat - y_c.iloc[i,0])/ y_c.iloc[i,0]) * 100\r\n",
        "    return cost/(163)\r\n",
        "cost_function(x_c,y_c,0)"
      ],
      "execution_count": 111,
      "outputs": [
        {
          "output_type": "execute_result",
          "data": {
            "text/plain": [
              "17.583893583994588"
            ]
          },
          "metadata": {
            "tags": []
          },
          "execution_count": 111
        }
      ]
    },
    {
      "cell_type": "markdown",
      "metadata": {
        "id": "bAIvkKcLOyKL"
      },
      "source": [
        "##main"
      ]
    },
    {
      "cell_type": "code",
      "metadata": {
        "colab": {
          "base_uri": "https://localhost:8080/",
          "height": 331
        },
        "id": "qhlBfvpgOykX",
        "outputId": "b4a6d183-6736-4991-fa15-5b3b2ef0ffcf"
      },
      "source": [
        "import matplotlib.pyplot as plt\r\n",
        "y1 = []\r\n",
        "for i in [0, 0.0001, 0.001, 0.01, 0.1, 1, 10, 100]: \r\n",
        "    c = cost_function(x_c,y_c,i)\r\n",
        "    y1.append(c)\r\n",
        "print(y1)\r\n",
        "plt.xlabel('lambda') \r\n",
        "plt.ylabel('percentage error')  \r\n",
        "plt.title('percentage error vs lambda') \r\n",
        "plt.plot([0, 0.0001, 0.001, 0.01, 0.1, 1, 10, 100], y1)\r\n",
        "\r\n",
        "\r\n"
      ],
      "execution_count": 112,
      "outputs": [
        {
          "output_type": "stream",
          "text": [
            "[17.583893583994588, 17.58389247295774, 17.5838824737109, 17.583782489627787, 17.58278348661137, 17.573457749566693, 17.503706342756157, 17.600805363203516]\n"
          ],
          "name": "stdout"
        },
        {
          "output_type": "execute_result",
          "data": {
            "text/plain": [
              "[<matplotlib.lines.Line2D at 0x7f69103f41d0>]"
            ]
          },
          "metadata": {
            "tags": []
          },
          "execution_count": 112
        },
        {
          "output_type": "display_data",
          "data": {
            "image/png": "[encoded data removed]",
            "text/plain": [
              "<Figure size 432x288 with 1 Axes>"
            ]
          },
          "metadata": {
            "tags": [],
            "needs_background": "light"
          }
        }
      ]
    },
    {
      "cell_type": "markdown",
      "metadata": {
        "id": "Vod-WMgJcKzE"
      },
      "source": [
        "#problem 2"
      ]
    },
    {
      "cell_type": "markdown",
      "metadata": {
        "id": "b4RJnfD1cWcU"
      },
      "source": [
        "##making feature dataframe"
      ]
    },
    {
      "cell_type": "code",
      "metadata": {
        "colab": {
          "base_uri": "https://localhost:8080/"
        },
        "id": "dOoBK1h-cW0B",
        "outputId": "603e4ba8-a6b0-4ebe-8e52-dc9b6a0444d9"
      },
      "source": [
        "df[\"bathrms\"] = pd.to_numeric(df[\"bathrms\"], downcast=\"float\")\r\n",
        "x_plot =    df['lotsize']\r\n",
        "x_bedroom = df['bedrooms']\r\n",
        "x_bathrooms = df['bathrms']\r\n",
        "\r\n",
        "\r\n",
        "plot_min = x_plot.min()\r\n",
        "plot_max = x_plot.max()\r\n",
        "\r\n",
        "bedroom_min = (x_bedroom.min())\r\n",
        "bedroom_max = x_bedroom.max()\r\n",
        "\r\n",
        "bathrooms_min = float (x_bathrooms.min())\r\n",
        "bathrooms_max = float (x_bathrooms.max())\r\n",
        "\r\n",
        "#print(bathrooms_max - bathrooms_min)\r\n",
        "\r\n",
        "#print((x_bathrooms[544] - bathrooms_min)/ (bathrooms_max-bathrooms_min))\r\n",
        "\r\n",
        "#print('next')\r\n",
        "#print(x_bathrooms[544] )\r\n",
        "\r\n",
        "for i in range(546): \r\n",
        "    x_plot.iloc[i]    =  (x_plot.iloc[i] - plot_min)/ (plot_max - plot_min)\r\n",
        "    x_bedroom.iloc[i] =  (x_bedroom.iloc[i] - bedroom_min) / (bedroom_max - bedroom_min)\r\n",
        "    x_bathrooms[i]     =   (x_bathrooms[i] - bathrooms_min)/  (bathrooms_max-bathrooms_min)\r\n",
        "\r\n",
        "data = [df[\"lotsize\"], df[\"bedrooms\"], df[\"bathrms\"]]\r\n",
        "\r\n",
        "#print(x_plot)\r\n",
        "\r\n",
        "headers = [\"plotsize\", \"bedrooms\", \"bathrooms\"]\r\n",
        "x_featured = pd.concat(data, axis=1, keys=headers)\r\n",
        "\r\n",
        "x_featured.insert (0, 'df_3', 1)\r\n",
        "\r\n",
        "print(x_featured)"
      ],
      "execution_count": 115,
      "outputs": [
        {
          "output_type": "stream",
          "text": [
            "/usr/local/lib/python3.7/dist-packages/pandas/core/indexing.py:670: SettingWithCopyWarning: \n",
            "A value is trying to be set on a copy of a slice from a DataFrame\n",
            "\n",
            "See the caveats in the documentation: https://pandas.pydata.org/pandas-docs/stable/user_guide/indexing.html#returning-a-view-versus-a-copy\n",
            "  iloc._setitem_with_indexer(indexer, value)\n",
            "/usr/local/lib/python3.7/dist-packages/ipykernel_launcher.py:26: SettingWithCopyWarning: \n",
            "A value is trying to be set on a copy of a slice from a DataFrame\n",
            "\n",
            "See the caveats in the documentation: https://pandas.pydata.org/pandas-docs/stable/user_guide/indexing.html#returning-a-view-versus-a-copy\n"
          ],
          "name": "stderr"
        },
        {
          "output_type": "stream",
          "text": [
            "     df_3  plotsize  bedrooms  bathrooms\n",
            "0       1  0.288660       0.4   0.000000\n",
            "1       1  0.161512       0.2   0.000000\n",
            "2       1  0.096907       0.4   0.000000\n",
            "3       1  0.343643       0.4   0.000000\n",
            "4       1  0.323711       0.2   0.000000\n",
            "..    ...       ...       ...        ...\n",
            "541     1  0.216495       0.4   0.333333\n",
            "542     1  0.298969       0.4   0.333333\n",
            "543     1  0.298969       0.4   0.333333\n",
            "544     1  0.298969       0.4   0.333333\n",
            "545     1  0.298969       0.4   0.000000\n",
            "\n",
            "[546 rows x 4 columns]\n"
          ],
          "name": "stdout"
        }
      ]
    },
    {
      "cell_type": "markdown",
      "metadata": {
        "id": "9VlpcI_nduV5"
      },
      "source": [
        "##batch gradient decent function "
      ]
    },
    {
      "cell_type": "code",
      "metadata": {
        "colab": {
          "base_uri": "https://localhost:8080/",
          "height": 295
        },
        "id": "YvMUJP4fxnCA",
        "outputId": "b962337f-e7c4-47c4-a2f0-3e928a41cb46"
      },
      "source": [
        "def gradientdecent (x, y, alpha, epoch): \r\n",
        "    w = [[0],[0],[0],[0]]\r\n",
        "    for k in range(epoch): \r\n",
        "        delta = [0,0,0,0]\r\n",
        "        error =0\r\n",
        "        for i in range(381):\r\n",
        "            y_hat = predict(w,x,i)\r\n",
        "            error = float(y_hat - y.iloc[i,0])\r\n",
        "            for j in range(4): \r\n",
        "                delta[j] += error * x.iloc[i,j]\r\n",
        "        #print(delta[1]/381)\r\n",
        "        for k in range(4): \r\n",
        "            w[k][0] = w[k][0] -  (alpha/(381)) * delta[k] \r\n",
        "        #print(w)\r\n",
        "    return w\r\n",
        "\r\n",
        "def cost_batchgd(x, y, alpha, epoch): \r\n",
        "    w = gradientdecent(x, y, alpha, epoch)\r\n",
        "    cost = 0\r\n",
        "    #print(w)\r\n",
        "    for i in range(382,545):\r\n",
        "        #print(i)\r\n",
        "        y_hat1 = predict(w, x, i)\r\n",
        "        #print(y_hat1)\r\n",
        "        #print(str(y_hat1) + '  vs  ' + str(y_c.iloc[i,0]))\r\n",
        "        cost += (abs(y_hat1 - y_c.iloc[i,0])/ y_c.iloc[i,0]) * 100\r\n",
        "    return cost/(163)\r\n",
        "\r\n",
        "#cost_batchgd(x_c, y_c, 0.000000001, 500)\r\n",
        "\r\n",
        "\r\n",
        "def plot_graph(x_c, y_c, alpha_normal, alpha_featured): \r\n",
        "    y_normal = []\r\n",
        "    y_featured = []\r\n",
        "\r\n",
        "    for i in   [10, 50, 100, 200, 300, 400, 500]:       \r\n",
        "        y_temp = cost_batchgd(x_c, y_c, alpha_normal, i)\r\n",
        "        y_temp1 = cost_batchgd(x_featured, y_c, alpha_featured, i)\r\n",
        "        y_featured.append(y_temp1)\r\n",
        "        y_normal.append(y_temp)\r\n",
        "    plt.xlabel('epoch') \r\n",
        "    plt.ylabel('percentage error')  \r\n",
        "    plt.title('batchgd-red-featured, blue-not featured') \r\n",
        "    plt.plot([10, 50, 100, 200, 300, 400, 500] ,y_featured, 'r')   \r\n",
        "    plt.plot([10, 50, 100, 200, 300, 400, 500] ,y_normal, 'b')\r\n",
        "    plt.show()\r\n",
        "\r\n",
        "plot_graph(x_c, y_c,0.000000001, 0.01 )\r\n",
        "\r\n",
        "    \r\n",
        "\r\n",
        "\r\n"
      ],
      "execution_count": 116,
      "outputs": [
        {
          "output_type": "display_data",
          "data": {
            "image/png": "[encoded data removed]",
            "text/plain": [
              "<Figure size 432x288 with 1 Axes>"
            ]
          },
          "metadata": {
            "tags": [],
            "needs_background": "light"
          }
        }
      ]
    },
    {
      "cell_type": "markdown",
      "metadata": {
        "id": "cMRor1j0F-T_"
      },
      "source": [
        "##stochastic gradient decent function "
      ]
    },
    {
      "cell_type": "code",
      "metadata": {
        "colab": {
          "base_uri": "https://localhost:8080/",
          "height": 544
        },
        "id": "YHNCVsT_F-0f",
        "outputId": "ff9061e9-e2c6-45e5-a6fa-756dbeced0c5"
      },
      "source": [
        "def stochastic_gradient_decent(x, y, alpha, epoch): \r\n",
        "  w = [[0], [0], [0], [0]]\r\n",
        "  for k in range(epoch):\r\n",
        "      error =0\r\n",
        "      for i in range(381):\r\n",
        "          y_hat = predict(w,x,i)\r\n",
        "          error = float(y_hat - y.iloc[i,0])\r\n",
        "          #print(error)\r\n",
        "          for j in range(4): \r\n",
        "              #print(y_hat)\r\n",
        "              #print(y.iloc[i,0])\r\n",
        "              w[j][0] = w[j][0] - alpha * error * x.iloc[i,j]\r\n",
        "  return w\r\n",
        "\r\n",
        "def cost_stochastic(x, y, alpha, epoch): \r\n",
        "    w = stochastic_gradient_decent(x, y, alpha, epoch)\r\n",
        "    cost = 0\r\n",
        "    print(w)\r\n",
        "    for i in range(382,545):\r\n",
        "        #print(i)\r\n",
        "        y_hat1 = predict(w, x, i)\r\n",
        "        #print(y_hat1)\r\n",
        "        #print(str(y_hat1) + '  vs  ' + str(y_c.iloc[i,0]))\r\n",
        "        cost += (abs(y_hat1 - y_c.iloc[i,0])/ y_c.iloc[i,0]) * 100\r\n",
        "    return cost/(163)\r\n",
        "  \r\n",
        "#cost_stochastic(x_c, y_c, 0.000000001, 500)\r\n",
        "\r\n",
        "def plot_graph(x_c, y_c, alpha_normal, alpha_featured): \r\n",
        "    y_normal = []\r\n",
        "    y_featured = []\r\n",
        "\r\n",
        "    for i in   [10, 50, 100, 200, 300, 400, 500]:       \r\n",
        "        y_temp = cost_stochastic(x_c, y_c, alpha_normal, i)\r\n",
        "        y_temp1 = cost_stochastic(x_featured, y_c, alpha_featured, i)\r\n",
        "        y_featured.append(y_temp1)\r\n",
        "        y_normal.append(y_temp)\r\n",
        "    plt.xlabel('epoch') \r\n",
        "    plt.ylabel('percentage error')  \r\n",
        "    plt.title('stochasticgd-red-featured, blue-not featured') \r\n",
        "    plt.plot([10, 50, 100, 200, 300, 400, 500],y_featured, 'r')   \r\n",
        "    plt.plot([10, 50, 100, 200, 300, 400, 500] ,y_normal, 'b')\r\n",
        "    plt.show()\r\n",
        "\r\n",
        "plot_graph(x_c, y_c,0.000000001, 0.01 )"
      ],
      "execution_count": 117,
      "outputs": [
        {
          "output_type": "stream",
          "text": [
            "[[0.01619978804657713], [12.901700804252373], [0.0649777685752212], [0.03815677712034135]]\n",
            "[[45217.05107509713], [49723.255393654195], [34127.25927861618], [45456.13283479439]]\n",
            "[[0.07029572824314198], [12.90157139091369], [0.294795301196258], [0.1775641798271171]]\n",
            "[[35366.338994496116], [81748.26783976077], [29535.35230292865], [58025.548995346064]]\n",
            "[[0.1379137541344461], [12.901409628602796], [0.5820588507721897], [0.35182001702025123]]\n",
            "[[34931.06465177713], [84408.60039344458], [28712.4163598502], [57758.00674043644]]\n",
            "[[0.27314347497997965], [12.901086118521999], [1.1565580636749277], [0.7003203045223245]]\n",
            "[[34903.559812991305], [84549.57606121965], [28684.47364582198], [57728.48669453905]]\n",
            "[[0.40836475500461605], [12.900762627828199], [1.7310200968164513], [1.0488054102435156]]\n",
            "[[34903.45818128517], [84549.96561552264], [28684.474791816177], [57728.35154469888]]\n",
            "[[0.5435775947225504], [12.900439156520221], [2.305444952481619], [1.3972753350614557]]\n",
            "[[34903.457826210986], [84549.9667731132], [28684.47495721348], [57728.351032914]]\n",
            "[[0.6787819946479647], [12.900115704596884], [2.879832632955303], [1.7457300798537287]]\n",
            "[[34903.4578250026], [84549.9667767206], [28684.47495803985], [57728.35103110762]]\n"
          ],
          "name": "stdout"
        },
        {
          "output_type": "display_data",
          "data": {
            "image/png": "[encoded data removed]",
            "text/plain": [
              "<Figure size 432x288 with 1 Axes>"
            ]
          },
          "metadata": {
            "tags": [],
            "needs_background": "light"
          }
        }
      ]
    },
    {
      "cell_type": "markdown",
      "metadata": {
        "id": "CY-9xJFuMngH"
      },
      "source": [
        "##mini batch gradient decent algorithm "
      ]
    },
    {
      "cell_type": "code",
      "metadata": {
        "colab": {
          "base_uri": "https://localhost:8080/",
          "height": 544
        },
        "id": "893vMSSzMoQA",
        "outputId": "257c8967-db49-42a1-dbb9-123f496ef543"
      },
      "source": [
        "def minibatch_gradientdecent (x, y, alpha, epoch, b): \r\n",
        "    w = [[0],[0],[0],[0]]\r\n",
        "    for k in range(epoch): \r\n",
        "        delta = [0,0,0,0]\r\n",
        "        error =0\r\n",
        "        for i in range(b):\r\n",
        "            y_hat = predict(w,x,i)\r\n",
        "            error = float(y_hat - y.iloc[i,0])\r\n",
        "            for j in range(4): \r\n",
        "                delta[j] += error * x.iloc[i,j]\r\n",
        "        #print(delta[1]/381)\r\n",
        "        for k in range(4): \r\n",
        "            w[k][0] = w[k][0] -  (alpha/(b)) * delta[k] \r\n",
        "        #print(w)\r\n",
        "    return w\r\n",
        "\r\n",
        "\r\n",
        "def cost_minibatch(x, y, alpha, epoch, b ): \r\n",
        "    w = minibatch_gradientdecent (x, y, alpha, epoch, b)\r\n",
        "    cost = 0\r\n",
        "    print(w)\r\n",
        "    for i in range(382,545):\r\n",
        "        #print(i)\r\n",
        "        y_hat1 = predict(w, x, i)\r\n",
        "        #print(y_hat1)\r\n",
        "        #print(str(y_hat1) + '  vs  ' + str(y_c.iloc[i,0]))\r\n",
        "        cost += (abs(y_hat1 - y_c.iloc[i,0])/ y_c.iloc[i,0]) * 100\r\n",
        "    return cost/(163)\r\n",
        "\r\n",
        "def plot_graph(x_c, y_c, alpha_normal, alpha_featured): \r\n",
        "    y_normal = []\r\n",
        "    y_featured = []\r\n",
        "\r\n",
        "    for i in   [10, 50, 100, 200, 300, 400, 500]:       \r\n",
        "        y_temp =  cost_minibatch(x_c, y_c, alpha_normal, i, 100)\r\n",
        "        y_temp1 = cost_minibatch(x_featured, y_c, alpha_featured, i, 100)\r\n",
        "        y_featured.append(y_temp1)\r\n",
        "        y_normal.append(y_temp)\r\n",
        "    plt.xlabel('epoch') \r\n",
        "    plt.ylabel('percentage error')  \r\n",
        "    plt.title('minibatch_gd-red-featured, blue-not featured') \r\n",
        "    plt.plot([10, 50, 100, 200, 300, 400, 500] ,y_featured, 'r')   \r\n",
        "    plt.plot([10, 50, 100, 200, 300, 400, 500] ,y_normal, 'b')\r\n",
        "    plt.show()\r\n",
        "\r\n",
        "plot_graph(x_c, y_c,0.000000001, 0.01 )"
      ],
      "execution_count": 118,
      "outputs": [
        {
          "output_type": "stream",
          "text": [
            "[[0.0004926551289305793], [2.357777476193064], [0.0014006773952079873], [0.00060075590196109]]\n",
            "[[5137.652852290641], [1121.0831970490176], [1893.5059772678287], [377.11378958246485]]\n",
            "[[0.0016906361755846583], [7.909435551924426], [0.004836992474887651], [0.0020715119999899995]]\n",
            "[[20561.77008846121], [4609.473385833706], [7641.7294655248725], [1573.6037558193914]]\n",
            "[[0.002318768197172914], [10.483997808026116], [0.006694842346356215], [0.002861005488325348]]\n",
            "[[31916.268043810283], [7428.914469091863], [12002.924227399912], [2585.5062965916445]]\n",
            "[[0.002770754772049116], [11.59481500209546], [0.008155438162984835], [0.003469550512843161]]\n",
            "[[41520.55449845091], [10512.81992245248], [16048.591036040438], [3802.078196670799]]\n",
            "[[0.003024949013083959], [11.7125095930273], [0.009061446406654131], [0.0038394391172829516]]\n",
            "[[44213.47423587385], [12238.321324941693], [17616.467397584158], [4581.270498126939]]\n",
            "[[0.0032581864102808555], [11.72497922932705], [0.009908693977148993], [0.004184041170047733]]\n",
            "[[44769.98810903475], [13531.642808626422], [18405.82495068025], [5212.282316554637]]\n",
            "[[0.0034892033274625447], [11.726299898679226], [0.010749715539243396], [0.004525963985331801]]\n",
            "[[44670.4616081849], [14680.160930133608], [18943.836301274034], [5785.133693838755]]\n"
          ],
          "name": "stdout"
        },
        {
          "output_type": "display_data",
          "data": {
            "image/png": "[encoded data removed]",
            "text/plain": [
              "<Figure size 432x288 with 1 Axes>"
            ]
          },
          "metadata": {
            "tags": [],
            "needs_background": "light"
          }
        }
      ]
    },
    {
      "cell_type": "markdown",
      "metadata": {
        "id": "W7qzv7kbCliF"
      },
      "source": [
        "#problem3 "
      ]
    },
    {
      "cell_type": "markdown",
      "metadata": {
        "id": "q4mQJHHKCmG7"
      },
      "source": [
        "##batch gradient with regulization"
      ]
    },
    {
      "cell_type": "code",
      "metadata": {
        "colab": {
          "base_uri": "https://localhost:8080/",
          "height": 313
        },
        "id": "DexSCmkCDCL9",
        "outputId": "f005358a-27ea-46e1-faf7-f5b6c702a382"
      },
      "source": [
        "def gradientdecent_regularized (x, y, alpha, epoch, lambdaa): \r\n",
        "    w = [[0],[0],[0],[0]]\r\n",
        "    for k in range(epoch): \r\n",
        "        delta = [0,0,0,0]\r\n",
        "        error =0\r\n",
        "        for i in range(381):\r\n",
        "            y_hat = predict(w,x,i)\r\n",
        "            error = float(y_hat - y.iloc[i,0])\r\n",
        "            for j in range(4): \r\n",
        "                delta[j] += error * x.iloc[i,j]\r\n",
        "        for k in range(4): \r\n",
        "            if k!=0: \r\n",
        "                w[k][0] = w[k][0] -  (alpha/(381)) * (delta[k] + lambdaa*w[k][0])\r\n",
        "            else: \r\n",
        "                w[k][0] = w[k][0] -  (alpha/(381)) * (delta[k])\r\n",
        "    return w\r\n",
        "\r\n",
        "def cost_batchgd_reularized(x, y, alpha, epoch, lambdaa): \r\n",
        "    w = gradientdecent_regularized(x, y, alpha, epoch, lambdaa)\r\n",
        "    cost = 0\r\n",
        "    #print(w)\r\n",
        "    for i in range(382,545):\r\n",
        "        #print(i)\r\n",
        "        y_hat1 = predict(w, x, i)\r\n",
        "        #print(y_hat1)\r\n",
        "        #print(str(y_hat1) + '  vs  ' + str(y_c.iloc[i,0]))\r\n",
        "        cost += (abs(y_hat1 - y_c.iloc[i,0])/ y_c.iloc[i,0]) * 100\r\n",
        "    return cost/(163)\r\n",
        "\r\n",
        "\r\n",
        "def plot_graph(x_c, y_c, alpha_normal, epoch): \r\n",
        "    y_normal = []\r\n",
        "    for i in   [0, 0.1, 1, 10, 100]:       \r\n",
        "        y_temp =  cost_batchgd_reularized(x_c, y_c,0.000000001 ,100, i)\r\n",
        "        y_normal.append(y_temp)\r\n",
        "    print(y_normal)\r\n",
        "    plt.xlabel('lambdaa') \r\n",
        "    plt.ylabel('percentage error')  \r\n",
        "    plt.title('batchgd-percentage error vs lambda') \r\n",
        "    plt.plot( [0, 0.1, 1, 10, 100] ,y_normal, 'r')   \r\n",
        "    plt.show()\r\n",
        "\r\n",
        "plot_graph(x_c, y_c, 0.000000001,100 )          "
      ],
      "execution_count": 119,
      "outputs": [
        {
          "output_type": "stream",
          "text": [
            "[30.153101050116145, 30.153101050202512, 30.153101050979718, 30.153101058752014, 30.153101136474838]\n"
          ],
          "name": "stdout"
        },
        {
          "output_type": "display_data",
          "data": {
            "image/png": "[encoded data removed]",
            "text/plain": [
              "<Figure size 432x288 with 1 Axes>"
            ]
          },
          "metadata": {
            "tags": [],
            "needs_background": "light"
          }
        }
      ]
    },
    {
      "cell_type": "markdown",
      "metadata": {
        "id": "E-tiS9Mg6fvV"
      },
      "source": [
        "##stochastic gradient decent with regularization"
      ]
    },
    {
      "cell_type": "code",
      "metadata": {
        "colab": {
          "base_uri": "https://localhost:8080/",
          "height": 402
        },
        "id": "eSycG8zi6q_2",
        "outputId": "05d4e5a7-02ea-4a68-97e2-e2939a5c19f5"
      },
      "source": [
        "import matplotlib.pyplot as plt\r\n",
        "\r\n",
        "def stochasticgd_regularization(x, y, alpha, epoch, lambdaa): \r\n",
        "  w = [[0], [0], [0], [0]]\r\n",
        "  for k in range(epoch):\r\n",
        "      error =0\r\n",
        "      for i in range(381):\r\n",
        "          y_hat = predict(w,x,i)\r\n",
        "          error = float(y_hat - y.iloc[i,0])\r\n",
        "          #print(error)\r\n",
        "          for j in range(4): \r\n",
        "              #print(y_hat)\r\n",
        "              #print(y.iloc[i,0])\r\n",
        "              if k!=0 :\r\n",
        "                  w[j][0] = w[j][0] - alpha * (error * x.iloc[i,j] +lambdaa * w[j][0])\r\n",
        "              else: \r\n",
        "                  w[j][0] = w[j][0] - alpha * error * x.iloc[i,j] \r\n",
        "\r\n",
        "  return w\r\n",
        "\r\n",
        "def cost_stochasticgd_regularization(x, y, alpha, epoch, lambdaa): \r\n",
        "    w = stochasticgd_regularization(x, y, alpha, epoch, lambdaa)\r\n",
        "    cost = 0\r\n",
        "    print(w)\r\n",
        "    for i in range(382,545):\r\n",
        "        #print(i)\r\n",
        "        y_hat1 = predict(w, x, i)\r\n",
        "        #print(y_hat1)\r\n",
        "        #print(str(y_hat1) + '  vs  ' + str(y_c.iloc[i,0]))\r\n",
        "        cost += (abs(y_hat1 - y_c.iloc[i,0])/ y_c.iloc[i,0]) * 100\r\n",
        "    return cost/(163)\r\n",
        "\r\n",
        "def plot_graph(x_c, y_c, alpha_normal, epoch): \r\n",
        "    y_normal = []\r\n",
        "    for i in   [0, 0.1, 1, 10, 100]:       \r\n",
        "        y_temp =  cost_stochasticgd_regularization(x_c, y_c,0.000000001 ,100, i)\r\n",
        "        y_normal.append(y_temp)\r\n",
        "    print(y_normal)\r\n",
        "    plt.xlabel('lambdaa') \r\n",
        "    plt.ylabel('percentage error')  \r\n",
        "    plt.title('batchgd-percentage error vs lambda') \r\n",
        "    plt.plot( [0, 0.1, 1, 10, 100] ,y_normal, 'r')   \r\n",
        "    plt.show()\r\n",
        "\r\n",
        "plot_graph(x_c, y_c, 0.000000001,100 )      \r\n"
      ],
      "execution_count": 120,
      "outputs": [
        {
          "output_type": "stream",
          "text": [
            "[[0.1379137541344461], [12.901409628602796], [0.5820588507721896], [0.35182001702025123]]\n",
            "[[0.13791349626720611], [12.901409610664466], [0.5820577580317561], [0.35181935458978264]]\n",
            "[[0.1379111754915272], [12.901409449219418], [0.582047923492703], [0.3518133927911675]]\n",
            "[[0.13788797065299388], [12.901407834762333], [0.5819495904535846], [0.35175378229036297]]\n",
            "[[0.1376562138147972], [12.901391689528918], [0.5809674940375076], [0.35115842510692324]]\n",
            "[30.203993775198366, 30.203993757100566, 30.203993594220297, 30.203991965400824, 30.203975675525893]\n"
          ],
          "name": "stdout"
        },
        {
          "output_type": "display_data",
          "data": {
            "image/png": "[encoded data removed]",
            "text/plain": [
              "<Figure size 432x288 with 1 Axes>"
            ]
          },
          "metadata": {
            "tags": [],
            "needs_background": "light"
          }
        }
      ]
    },
    {
      "cell_type": "markdown",
      "metadata": {
        "id": "mJhE3a1a-IRO"
      },
      "source": [
        "##mini batch gradient decent with regularization"
      ]
    },
    {
      "cell_type": "code",
      "metadata": {
        "colab": {
          "base_uri": "https://localhost:8080/",
          "height": 402
        },
        "id": "qsmlGgR0-I_3",
        "outputId": "cb1a7750-5bb1-4513-aa32-4042f293e1f7"
      },
      "source": [
        "def minibatchgd_regularization (x, y, alpha, epoch, b, lambdaa): \r\n",
        "    w = [[0],[0],[0],[0]]\r\n",
        "    for k in range(epoch): \r\n",
        "        delta = [0,0,0,0]\r\n",
        "        error =0\r\n",
        "        for i in range(b):\r\n",
        "            y_hat = predict(w,x,i)\r\n",
        "            error = float(y_hat - y.iloc[i,0])\r\n",
        "            for j in range(4): \r\n",
        "                delta[j] += error * x.iloc[i,j]\r\n",
        "        #print(delta[1]/381)\r\n",
        "        for k in range(4): \r\n",
        "            if k!=0: \r\n",
        "                w[k][0] = w[k][0] -  (alpha/(b)) * (delta[k] + lambdaa*w[k][0])\r\n",
        "            else: \r\n",
        "                w[k][0] = w[k][0] -  (alpha/(b)) * (delta[k])\r\n",
        "        #print(w)\r\n",
        "    return w\r\n",
        "\r\n",
        "\r\n",
        "def cost_minibatch_regularization(x, y, alpha, epoch, b, lambdaa ): \r\n",
        "    w = minibatchgd_regularization (x, y, alpha, epoch, b, lambdaa)\r\n",
        "    cost = 0\r\n",
        "    print(w)\r\n",
        "    for i in range(382,545):\r\n",
        "        #print(i)\r\n",
        "        y_hat1 = predict(w, x_c, i)\r\n",
        "        #print(y_hat1)\r\n",
        "        #print(str(y_hat1) + '  vs  ' + str(y_c.iloc[i,0]))\r\n",
        "        cost += (abs(y_hat1 - y_c.iloc[i,0])/ y_c.iloc[i,0]) * 100\r\n",
        "    return cost/(163)\r\n",
        "\r\n",
        "def plot_graph(x_c, y_c, alpha, epoch, b): \r\n",
        "    y_normal = []\r\n",
        "    for i in   [0, 0.1, 1, 10, 100]:       \r\n",
        "        y_temp =  cost_minibatch_regularization(x, y, alpha, epoch, b, i )\r\n",
        "        y_normal.append(y_temp)\r\n",
        "    print(y_normal)\r\n",
        "    plt.xlabel('lambdaa') \r\n",
        "    plt.ylabel('percentage error')  \r\n",
        "    plt.title('batchgd-percentage error vs lambda') \r\n",
        "    plt.plot( [0, 0.1, 1, 10, 100] ,y_normal, 'r')   \r\n",
        "    plt.show()\r\n",
        "\r\n",
        "plot_graph(x_c, y_c, 0.000000001,100, 100  )      "
      ],
      "execution_count": 121,
      "outputs": [
        {
          "output_type": "stream",
          "text": [
            "[[0.002318768197172914], [10.483997808026116], [0.006694842346356215], [0.002861005488325348]]\n",
            "[[0.002318768197243637], [10.48399780768087], [0.006694842346121833], [0.0028610054882254746]]\n",
            "[[0.002318768197880138], [10.48399780457372], [0.006694842344012356], [0.002861005487326612]]\n",
            "[[0.002318768204245165], [10.48399777350217], [0.006694842322917667], [0.0028610054783379845]]\n",
            "[[0.0023187682678954213], [10.48399746278669], [0.006694842111970778], [0.0028610053884517038]]\n",
            "[31.892907662751604, 31.89290766345898, 31.892907669825433, 31.8929077334899, 31.892908370134418]\n"
          ],
          "name": "stdout"
        },
        {
          "output_type": "display_data",
          "data": {
            "image/png": "[encoded data removed]",
            "text/plain": [
              "<Figure size 432x288 with 1 Axes>"
            ]
          },
          "metadata": {
            "tags": [],
            "needs_background": "light"
          }
        }
      ]
    },
    {
      "cell_type": "markdown",
      "metadata": {
        "id": "6AEqohbnJx3t"
      },
      "source": [
        "#problem 4 "
      ]
    },
    {
      "cell_type": "markdown",
      "metadata": {
        "id": "6k6-hKaHJ1TJ"
      },
      "source": [
        "##getting kernal matrix"
      ]
    },
    {
      "cell_type": "code",
      "metadata": {
        "id": "uA2QR00xJ1yL"
      },
      "source": [
        "import math\r\n",
        "\r\n",
        "def createkernal (tau, r): \r\n",
        "\r\n",
        "    vec = [[0.0]*r]*r\r\n",
        "    #print(vec) \r\n",
        "    x_o = r/2\r\n",
        "    for i in range(382): \r\n",
        "        for j in range(382):\r\n",
        "            vec[i][j] = math.exp(- ((x_o-i)*(x_o-i)/(2*tau*tau)))\r\n",
        "            #print(vec[i][j])\r\n",
        "    return vec\r\n",
        "\r\n",
        "#print(createkernal(100, 382))\r\n",
        "\r\n",
        "\r\n"
      ],
      "execution_count": 122,
      "outputs": []
    },
    {
      "cell_type": "markdown",
      "metadata": {
        "id": "daJ09sYHUqzJ"
      },
      "source": [
        "##getting LWR coefficients "
      ]
    },
    {
      "cell_type": "code",
      "metadata": {
        "colab": {
          "base_uri": "https://localhost:8080/"
        },
        "id": "AAtO6GvOUrWJ",
        "outputId": "c3e336de-52d7-4be9-f64c-c0a09f79a241"
      },
      "source": [
        "\r\n",
        "def get_coef_lwr(x,y, tau):\r\n",
        "    w = createkernal(tau, 382)\r\n",
        "    z = np.dot(x.transpose(), w)\r\n",
        "    z = np.dot(z, x)\r\n",
        "    #print(z)\r\n",
        "    z = np.linalg.inv(z)\r\n",
        "    a = np.dot(x.transpose(), w)\r\n",
        "    #print(a.shape)\r\n",
        "    a = np.dot(a, y)\r\n",
        "    #print(a.shape)\r\n",
        "    w =np.dot(z, a)\r\n",
        "    return w\r\n",
        "\r\n",
        "get_coef_lwr(x,y, 50)"
      ],
      "execution_count": 123,
      "outputs": [
        {
          "output_type": "execute_result",
          "data": {
            "text/plain": [
              "array([[ 3.2768e+04],\n",
              "       [ 8.0000e+00],\n",
              "       [ 2.4576e+04],\n",
              "       [-9.8304e+04]])"
            ]
          },
          "metadata": {
            "tags": []
          },
          "execution_count": 123
        }
      ]
    },
    {
      "cell_type": "markdown",
      "metadata": {
        "id": "in8oTfVKY8YO"
      },
      "source": [
        ""
      ]
    },
    {
      "cell_type": "code",
      "metadata": {
        "colab": {
          "base_uri": "https://localhost:8080/",
          "height": 422
        },
        "id": "fTuK1AEBY89_",
        "outputId": "99695785-832d-43a6-dd88-3ef4d14ce4f1"
      },
      "source": [
        "\r\n",
        "def cost_function_lwr(x, y, tau ): \r\n",
        "    w = get_coef_lwr(x_c.head(382),y_c.head(382), tau)\r\n",
        "    cost = 0\r\n",
        "    for i in range(382,545):\r\n",
        "        y_hat = predict(w, x_c, i)\r\n",
        "        cost += (abs(y_hat - y_c.iloc[i,0])/ y_c.iloc[i,0]) * 100\r\n",
        "    return cost/(163)\r\n",
        "\r\n",
        "\r\n",
        "\r\n",
        "\r\n",
        "def plot_graph(x_c, y_c): \r\n",
        "    list = []\r\n",
        "    for i in range(10,100):\r\n",
        "        if (i!=28 and i!=92):\r\n",
        "            list.append(i)\r\n",
        "    y_low = 100 \r\n",
        "    #print(list)\r\n",
        "    y_normal = []\r\n",
        "    for i in list:  \r\n",
        "        #print(i)     \r\n",
        "        y_temp =  cost_function_lwr(x, y, i)\r\n",
        "        y_normal.append(y_temp)\r\n",
        "        if (y_low > y_temp): \r\n",
        "            y_low = y_temp\r\n",
        "            print('lowest min till now is = ' + str(y_temp) + 'at tau value = ' + str(i))\r\n",
        "    print(y_normal)\r\n",
        "    plt.xlabel('tau') \r\n",
        "    plt.ylabel('percentage error')  \r\n",
        "    plt.title('LWR-percentage error vs Tau') \r\n",
        "    plt.plot( list ,y_normal, 'r')   \r\n",
        "    plt.show()\r\n",
        "\r\n",
        "plot_graph(x_c, y_c)\r\n"
      ],
      "execution_count": 124,
      "outputs": [
        {
          "output_type": "stream",
          "text": [
            "lowest min till now is = 58.61042440399278at tau value = 10\n",
            "lowest min till now is = 30.50514645717295at tau value = 11\n",
            "lowest min till now is = 23.34888965405387at tau value = 16\n",
            "lowest min till now is = 20.679229076835124at tau value = 54\n",
            "lowest min till now is = 18.842937027158193at tau value = 87\n",
            "[58.61042440399278, 30.50514645717295, 102.5965047467037, 53.88549840216234, 32.337192160071844, 45.06946796435728, 23.34888965405387, 33.381168795693014, 33.245271317170726, 95.33310340292435, 35.04677987719498, 64.54308089354892, 29.37212876127225, 35.2772736022887, 28.238778237907326, 23.508332630003455, 48.511708970135224, 49.58577341104609, 38.35456983869349, 36.039016055885256, 35.96879952821739, 54.790182913427586, 112.96882246034299, 183.3025349870084, 36.0425971047102, 33.39829673240491, 34.80162567064353, 23.564395415951196, 118.2841374900082, 45.08935706508921, 39.78679973783187, 105.23039914901979, 88.80811730067745, 25.2319422432585, 47.88125081677131, 77.03998053935993, 34.5363579430118, 32.44656117154765, 26.556415458680522, 66.36403004635415, 43.88495904798581, 34.196399489400676, 25.385788420231652, 20.679229076835124, 43.47322892295265, 91.33425709100212, 30.176322811459023, 28.575575349371157, 51.69286883943729, 45.9672744973929, 22.76954929898435, 51.1228276804847, 47.8504896179834, 26.68236998857733, 20.833714616331065, 51.41085985377019, 33.969633632769565, 31.738761046707488, 53.25887616768937, 96.8828794502639, 34.83988875055, 35.878109887191606, 29.083757855581716, 302.67460061193765, 40.84803286975124, 38.12100942778932, 39.56876307529297, 32.48613520199406, 69.31147364852535, 88.86119258325883, 46.87672623486045, 23.588138472671478, 29.341812967347693, 39.109374788460144, 25.607964553488017, 36.17256041659255, 18.842937027158193, 89.84318157199412, 24.64814928275696, 41.22744179583136, 43.3337519914441, 85.93438344560704, 85.70378238399262, 38.623603969251135, 24.71089262257689, 79.61935210086348, 39.54181190003154, 54.206214738046235]\n"
          ],
          "name": "stdout"
        },
        {
          "output_type": "display_data",
          "data": {
            "image/png": "[encoded data removed]",
            "text/plain": [
              "<Figure size 432x288 with 1 Axes>"
            ]
          },
          "metadata": {
            "tags": [],
            "needs_background": "light"
          }
        }
      ]
    },
    {
      "cell_type": "code",
      "metadata": {
        "id": "_saSqAOwojwK"
      },
      "source": [
        ""
      ],
      "execution_count": null,
      "outputs": []
    }
  ]
}